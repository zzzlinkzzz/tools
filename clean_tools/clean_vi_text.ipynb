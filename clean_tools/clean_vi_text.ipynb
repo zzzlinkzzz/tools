{
 "cells": [
  {
   "cell_type": "code",
   "execution_count": 1,
   "id": "67666fe8",
   "metadata": {},
   "outputs": [
    {
     "name": "stdout",
     "output_type": "stream",
     "text": [
      "20\n",
      " Cơ quan CSĐT Bộ Công an ngày 7-6 đã ra quyết định khởi tố bị can, bắt tạm giam ông Chu Ngọc Anh - cựu chủ tịch UBND TP Hà Nội, cựu Bộ trưởng KH&amp;CN; ông Nguyễn Thanh Long, cựu bộ trưởng Bộ Y tế và ông Phạm Công Tạc, cựu thứ trưởng Bộ KH&amp;CN để điều tra sai phạm liên quan vụ kit test Việt Á.\n",
      "Trao đổi với Pháp luật TP.HCM, đại biểu Quốc hội (ĐBQH) Phạm Văn Hòa, đoàn Đồng Tháp, Ủy viên Ủy ban Pháp luật của QH đánh giá diễn biến tố tụng trên cho thấy quan điểm “không có vùng cấm” trong công tác phòng, chống tham nhũng của Đảng và Nhà nước.\n",
      ". Phóng viên: Ông đánh giá như thế nào về việc Cơ quan CSĐT Bộ Công an cùng lúc khởi tố, bắt tạm giam ba cán bộ cấp cao, trong đó có tới hai người từng đứng đầu hai bộ ngành?\n",
      "+ Ông Phạm Văn Hòa: Đây là một hành động hết sức cương quyết, thể hiện được quyết tâm của Đảng và Nhà nước trong công tác phòng chống tham nhũng, chống lãng phí. \n",
      "Thời gian qua, tình hình tham nhũng, tiêu cực, lãng phí trong một bộ phận cán bộ có chức có quyền của nước ta khiến nhân dân hết rất bức xúc. Yêu cầu đặt ra là cần xử lý nghiêm, đặc biệt là các cấp lãnh đạo quản lý.\n",
      "Tôi cho rằng đây là vấn đề hết sức hệ trọng, xử lý sai phạm và xử lý trách nhiệm hình sự thì không có “vùng cấm”, dù cá nhân có chức vụ cao cấp đến đâu. \n",
      "Vấn đề xử lý sai phạm, khởi tố, bắt tạm giam cán bộ cấp cao cũng không phải chưa từng có tiền lệ. Trước đó, cơ quan CSĐT cũng đã bắt và xử lý sai phạm một số Ủy viên Trung ương Đảng, Bộ trưởng, Bí thư tỉnh ủy… \n",
      "Hành động này chắc chắn cũng phù hợp với mong muốn của người dân về công tác chống tham nhũng, chống lãng phí, bất kể người đó là ai. Với hy vọng bộ máy chính quyền nhà nước phục vụ nhân dân ngày càng trong sạch, vững mạnh và các cán bộ công chức sẽ có một phẩm chất đạo đức tốt để phục vụ nhân dân. \n",
      "Theo tôi, đây còn là sự cảnh tỉnh cho tất cả cán bộ trong hệ thống chính trị, không trừ ngành nào. Và vụ việc này cũng sẽ là “quả bom” cảnh báo mạnh mẽ đối với đội ngũ cán bộ công chức hiện nay. Đặc biệt là những Đảng viên có chức có quyền, cần nêu gương để họ nhìn vào sẽ không dám, không ham, không muốn và đừng phút giây nào lơi lỏng sự rèn luyện.\n",
      ".Tính đến nay đã có khoảng 60 người bị truy cứu trách nhiệm hình sự liên quan vụ kit test Việt Á, các bị can là cựu cán bộ của nhiều địa phương, bộ, ngành. Theo ông, đây đã phải là “hồi kết” cho vụ án?\n",
      "+ Tôi cho rằng đây vẫn chưa phải hồi kết cho vụ việc liên quan đến công ty Việt Á. Trong quá trình điều tra, cơ quan công an phát hiện tới đâu sẽ xử lý tới đó, đúng người đúng tội nên công tác phòng chống tham nhũng sẽ còn kéo dài.\n",
      "Tùy theo mức độ sai phạm sẽ có những hình thức xử lý khác nhau, nhẹ thì xử lý hành chính, nặng thì sẽ phải truy cứu trách nhiệm hình sự. \n",
      "Việc các cá nhân có phạm tội hay không thì chúng ta phải chờ cơ quan chức năng vào cuộc điều tra và các phán quyết từ tòa án.\n",
      ". Đại dịch COVID-19 đã cướp đi hàng ngàn sinh mạng, ảnh hưởng nặng nề đến mọi mặt cuộc sống nhưng nhiều cá nhân đã trục lợi trên nỗi đau của người dân. Là ĐBQH, đại diện tiếng nói cho của nhân dân, ông đánh giá như thế nào về việc này?\n",
      "+ Vi phạm thì phải bị xử lý. Bởi hành vi trục lợi cá nhân, lợi dụng tình hình dịch bệnh khó khăn để làm giàu, làm thất thoát ngân sách của nhà nước là hành vi bất chính và phải bị trừng trị.\n",
      "Trân trọng cảm ơn ông!\n",
      "Ngày 7-6, QH đã bãi nhiệm tư cách ĐBQH, cách chức bộ trưởng Bộ Y tế với ông Nguyễn Thanh Long vì các vi phạm đã được cơ quan chức năng kết luận. Ông Nguyễn Thanh Long không đảm bảo tiêu chuẩn là ĐBQH cũng như tư cách là bộ trưởng Bộ Y tế. Trước đó, chiều 6-6, Ban chấp hành Trung ương Đảng quyết định thi hành khai trừ ra khỏi Đảng với ông Nguyễn Thanh Long.\n",
      "Cùng ngày, HĐND TP Hà Nội thống nhất bãi miễn đại biểu HĐND với ông Chu Ngọc Anh. Các đại biểu cũng bãi miễn chức chủ tịch UBND TP Hà Nội với ông này. Trước đó, chiều 6-6, Ban chấp hành Trung ương Đảng quyết định thi hành khai trừ ra khỏi Đảng với ông Chu Ngọc Anh.\n",
      "Với ông Phạm Công Tạc, thứ trưởng Bộ KH&amp;CN, ngày 6-6, ông bị kỷ luật buộc thôi việc. Hôm 4-6, ông bị Ban bí thư khai trừ ra khỏi Đảng.\n",
      "Trong chiều tối 7-6, Bộ Công an đã có quyết định khởi tố bị can, bắt tạm giam ông Nguyễn Thanh Long, cựu bộ trưởng Bộ Y tế, về tội lợi dụng chức vụ quyền hạn trong khi thi hành công vụ; khởi tố bị can, bắt tạm giam ông Chu Ngọc Anh, cựu chủ tịch UBND TP Hà Nội, cựu bộ trưởng Bộ KH&amp;CN và ông Phạm Công Tạc, cựu thứ trưởng Bộ KH&amp;CN về tội vi phạm quy định về quản lý, sử dụng tài sản Nhà nước gây thất thoát, lãng phí.\n"
     ]
    }
   ],
   "source": [
    "import requests\n",
    "from bs4 import BeautifulSoup as bs\n",
    "import re\n",
    "\n",
    "\n",
    "url = 'https://plo.vn/xu-ly-can-bo-sai-pham-khong-vung-cam-du-chuc-vu-cao-den-dau-post683629.html'\n",
    "\n",
    "r = requests.get(url)\n",
    "\n",
    "soup = bs(r.text, \"html.parser\")\n",
    "content = soup.find_all(\"div\", class_=\"article__body\")\n",
    "content = bs(str(content[0]),'html.parser')\n",
    "content = soup.find_all(\"p\", style=\"text-align: justify;\")\n",
    "\n",
    "\n",
    "def clean_text(text):\n",
    "    return re.sub('<.*?>', '', str(text))\n",
    "\n",
    "content = [clean_text(line) for line in content]\n",
    "print(len(content))\n",
    "for line in content:\n",
    "    print(line)"
   ]
  },
  {
   "cell_type": "code",
   "execution_count": 2,
   "id": "c747bb77",
   "metadata": {},
   "outputs": [],
   "source": [
    "import clean_vn_text as cls"
   ]
  },
  {
   "cell_type": "code",
   "execution_count": 3,
   "id": "9b583265",
   "metadata": {},
   "outputs": [
    {
     "name": "stdout",
     "output_type": "stream",
     "text": [
      " Cơ quan CSĐT Bộ Công an ngày 7-6 đã ra quyết định khởi tố bị can, bắt tạm giam ông Chu Ngọc Anh - cựu chủ tịch UBND TP Hà Nội, cựu Bộ trưởng KH&amp;CN; ông Nguyễn Thanh Long, cựu bộ trưởng Bộ Y tế và ông Phạm Công Tạc, cựu thứ trưởng Bộ KH&amp;CN để điều tra sai phạm liên quan vụ kit test Việt Á.\n",
      " Cơ quan CSĐT Bộ Công an ngày 7-6 đã ra quyết định khởi tố bị can, bắt tạm giam ông Chu Ngọc Anh - cựu chủ tịch UBND TP Hà Nội, cựu Bộ trưởng KH&amp;CN; ông Nguyễn Thanh Long, cựu bộ trưởng Bộ Y tế và ông Phạm Công Tạc, cựu thứ trưởng Bộ KH&amp;CN để điều tra sai phạm liên quan vụ kit test Việt Á.\n",
      "Cơ quan CSĐT Bộ Công an ngày 7-6 đã ra quyết định khởi tố bị can, bắt tạm giam ông Chu Ngọc Anh - cựu chủ tịch UBND TP Hà Nội, cựu Bộ trưởng KH&amp;CN; ông Nguyễn Thanh Long, cựu bộ trưởng Bộ Y tế và ông Phạm Công Tạc, cựu thứ trưởng Bộ KH&amp;CN để điều tra sai phạm liên quan vụ kit test Việt Á.\n",
      "Cơ quan CSĐT Bộ Công an ngày 7 6 đã ra quyết định khởi tố bị can bắt tạm giam ông Chu Ngọc Anh cựu chủ tịch UBND TP Hà Nội cựu Bộ trưởng KH amp CN ông Nguyễn Thanh Long cựu bộ trưởng Bộ Y tế và ông Phạm Công Tạc cựu thứ trưởng Bộ KH amp CN để điều tra sai phạm liên quan vụ kit test Việt Á\n",
      "Cơ_quan CSĐT Bộ Công_an ngày 7 - 6 đã ra quyết_định khởi_tố bị_can , bắt tạm giam ông Chu_Ngọc_Anh - cựu_chủ_tịch UBND TP Hà_Nội , cựu Bộ_trưởng KH & amp ; CN ; ông Nguyễn Thanh_Long , cựu bộ_trưởng Bộ Y_tế và ông Phạm Công_Tạc , cựu thứ_trưởng Bộ KH & amp ; CN để điều_tra sai_phạm liên_quan vụ kit test Việt_Á .\n",
      "cơ_quan csđt bộ công_an ngày 7 6 đã ra quyết_định khởi_tố bị_can bắt tạm giam ông chu_ngọc_anh cựu_chủ_tịch ubnd tp hà_nội cựu bộ_trưởng kh amp cn ông nguyễn thanh_long cựu bộ_trưởng bộ y_tế và ông phạm công_tạc cựu thứ_trưởng bộ kh amp cn để điều_tra sai_phạm liên_quan vụ kit test việt_á\n"
     ]
    }
   ],
   "source": [
    "text = content[0]\n",
    "print(text)\n",
    "print(cls.chuan_hoa_unicode(text))\n",
    "print(cls.chuan_hoa_dau_cau_tieng_viet(text))\n",
    "print(cls.chuan_hoa_cau(text))\n",
    "print(cls.tach_tu_tieng_viet(text))\n",
    "print(cls.tien_xu_li(text))"
   ]
  }
 ],
 "metadata": {
  "kernelspec": {
   "display_name": "Python 3 (ipykernel)",
   "language": "python",
   "name": "python3"
  },
  "language_info": {
   "codemirror_mode": {
    "name": "ipython",
    "version": 3
   },
   "file_extension": ".py",
   "mimetype": "text/x-python",
   "name": "python",
   "nbconvert_exporter": "python",
   "pygments_lexer": "ipython3",
   "version": "3.9.7"
  }
 },
 "nbformat": 4,
 "nbformat_minor": 5
}
