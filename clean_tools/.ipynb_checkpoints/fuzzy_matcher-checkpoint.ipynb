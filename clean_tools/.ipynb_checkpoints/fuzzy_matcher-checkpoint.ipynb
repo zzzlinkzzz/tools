{
 "cells": [
  {
   "cell_type": "code",
   "execution_count": null,
   "id": "50c69afc",
   "metadata": {},
   "outputs": [],
   "source": [
    "import pandas as pd\n",
    "from pathlib import Path\n",
    "import fuzzymatcher\n",
    "hospital_accounts = pd.read_csv('./sample_data/hospital_account_info.csv')\n",
    "hospital_reimbursement = pd.read_csv('./sample_data/hospital_reimbursement.csv')"
   ]
  }
 ],
 "metadata": {
  "kernelspec": {
   "display_name": "Python 3 (ipykernel)",
   "language": "python",
   "name": "python3"
  },
  "language_info": {
   "codemirror_mode": {
    "name": "ipython",
    "version": 3
   },
   "file_extension": ".py",
   "mimetype": "text/x-python",
   "name": "python",
   "nbconvert_exporter": "python",
   "pygments_lexer": "ipython3",
   "version": "3.9.7"
  }
 },
 "nbformat": 4,
 "nbformat_minor": 5
}
