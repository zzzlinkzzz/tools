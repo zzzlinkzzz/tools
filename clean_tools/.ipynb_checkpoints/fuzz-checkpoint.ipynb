{
 "cells": [
  {
   "cell_type": "code",
   "execution_count": null,
   "id": "8ddbe9f5",
   "metadata": {},
   "outputs": [],
   "source": [
    "from fuzzywuzzy import fuzz\n",
    "from fuzzywuzzy import process"
   ]
  },
  {
   "cell_type": "code",
   "execution_count": null,
   "id": "f195c067",
   "metadata": {},
   "outputs": [],
   "source": [
    "choices = [\"Lê Thanh Tùng\", \"Le Thanh Tung\", \"le thanhtùng\", \"le Tah tùg\", \"le Thah tùgn\", \"Le Tung\", \"Nguyễn Thành Long\", \"Lê Mỹ Hạnh\", \"Lê Thanh Lân\", \"Lê Hoàng Tùng\", \"Lưu Hoàng Tùng\"]\n",
    "\n",
    "print(process.extract(\"Lê Thanh Tùng\", choices,limit=10))\n",
    "\n",
    "res = process.extractBests(\"Lê Thanh Tùng\", choices,limit=10,score_cutoff=80)\n",
    "print(res)\n",
    "\n",
    "print(process.extractOne(\"Lê Thanh Tùng\", choices))\n",
    "\n",
    "print(fuzz.ratio(\"Lê\",\"Lưu\"))\n",
    "print(fuzz.ratio(\"Thanh\",\"Hoàng\"))\n",
    "print(fuzz.ratio(\"Tùng\",\"Lân\"))"
   ]
  }
 ],
 "metadata": {
  "kernelspec": {
   "display_name": "Python 3 (ipykernel)",
   "language": "python",
   "name": "python3"
  },
  "language_info": {
   "codemirror_mode": {
    "name": "ipython",
    "version": 3
   },
   "file_extension": ".py",
   "mimetype": "text/x-python",
   "name": "python",
   "nbconvert_exporter": "python",
   "pygments_lexer": "ipython3",
   "version": "3.9.7"
  }
 },
 "nbformat": 4,
 "nbformat_minor": 5
}
